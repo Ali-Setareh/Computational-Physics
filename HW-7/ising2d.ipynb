{
 "metadata": {
  "language_info": {
   "codemirror_mode": {
    "name": "ipython",
    "version": 3
   },
   "file_extension": ".py",
   "mimetype": "text/x-python",
   "name": "python",
   "nbconvert_exporter": "python",
   "pygments_lexer": "ipython3",
   "version": "3.8.3-final"
  },
  "orig_nbformat": 2,
  "kernelspec": {
   "name": "python3",
   "display_name": "Python 3",
   "language": "python"
  }
 },
 "nbformat": 4,
 "nbformat_minor": 2,
 "cells": [
  {
   "source": [
    "initialize sigma randomly with \"initial\" function and plot the grid using \"graphic\" function"
   ],
   "cell_type": "markdown",
   "metadata": {}
  },
  {
   "cell_type": "code",
   "execution_count": 1,
   "metadata": {},
   "outputs": [],
   "source": [
    "import numpy as np\n",
    "import matplotlib.pyplot as plt\n",
    "def initial(l):\n",
    "    p=0.5\n",
    "    sigma=np.random.uniform(size=(l,l))\n",
    "    z=(sigma<p).astype(int)\n",
    "    z[z==0]=-1\n",
    "    return z\n",
    "def graphic(z,l):\n",
    "    x=np.arange(l)\n",
    "    y=np.arange(l)\n",
    "    plt.pcolormesh(x,y,z,cmap='gray_r')"
   ]
  },
  {
   "source": [
    "\"energy\" function to calculate energy of the grid"
   ],
   "cell_type": "markdown",
   "metadata": {}
  },
  {
   "cell_type": "code",
   "execution_count": 2,
   "metadata": {},
   "outputs": [],
   "source": [
    "def energy(sigma,l):\n",
    "    E=np.sum(sigma[:,:l-1]*sigma[:,1:l])+np.sum(sigma[:l-1,:]*sigma[1:l,:])+np.sum(sigma[:,l-1]*sigma[:,0])+np.sum(sigma[l-1,:]*sigma[0,:])\n",
    "    return -E   "
   ]
  },
  {
   "source": [
    "\"magnetization\" function to calculate magnetization of the grid"
   ],
   "cell_type": "markdown",
   "metadata": {}
  },
  {
   "cell_type": "code",
   "execution_count": 3,
   "metadata": {},
   "outputs": [],
   "source": [
    "def magnetization(sigma):\n",
    "    return np.sum(sigma)"
   ]
  },
  {
   "source": [
    "\"cor\" function to calculate correlation of the \"data\""
   ],
   "cell_type": "markdown",
   "metadata": {}
  },
  {
   "cell_type": "code",
   "execution_count": 5,
   "metadata": {},
   "outputs": [],
   "source": [
    "def cor(data,l,step):\n",
    "    n=len(data)\n",
    "    x=0\n",
    "    for i in range(step,n//3+1,step):\n",
    "         x=stats.pearsonr(data[:n-i],data[i:])[0]\n",
    "         if x<(1/np.e):\n",
    "            return i\n",
    "    return 0"
   ]
  },
  {
   "source": [
    "\"cor2\" function is as same as cor function but it caculates correlation without using the standard libraries:"
   ],
   "cell_type": "markdown",
   "metadata": {}
  },
  {
   "cell_type": "code",
   "execution_count": 6,
   "metadata": {},
   "outputs": [],
   "source": [
    "def cor2(data,l,step):\n",
    "    n=len(data)\n",
    "    u=[]\n",
    "    data2=np.array(data)\n",
    "    for i in range(step,n//10,step):\n",
    "        y=(np.mean(data2[:n-i]*data2[i:])-np.mean(data2[:n-i])*np.mean(data2[i:]))/(np.std(data2[:n-i])*np.std(data2[i:]))\n",
    "        u.append(y)\n",
    "    return u"
   ]
  },
  {
   "source": [
    "\"sv_excel\" function to save \"data\" which is a pandas dataframe in to an excel file "
   ],
   "cell_type": "markdown",
   "metadata": {}
  },
  {
   "cell_type": "code",
   "execution_count": 7,
   "metadata": {},
   "outputs": [],
   "source": [
    "from openpyxl import load_workbook\n",
    "def sv_excel(data,l,fname):\n",
    "    path=r\"%s\"%fname\n",
    "    book = load_workbook(path)\n",
    "    writer = pd.ExcelWriter(path, engine = 'openpyxl')\n",
    "    writer.book = book\n",
    "    data.to_excel(writer,sheet_name=str(l))\n",
    "    writer.save()\n",
    "    writer.close()\n",
    "    "
   ]
  },
  {
   "source": [
    "\"relax\" function to make sure that the system has reached to its stable state "
   ],
   "cell_type": "markdown",
   "metadata": {}
  },
  {
   "cell_type": "code",
   "execution_count": 9,
   "metadata": {},
   "outputs": [],
   "source": [
    "def relax(sigma,e,m,j,l,sample_number):\n",
    "  des={0:1,4:(np.e)**(-j*4),8:(np.e)**(-j*8)}\n",
    "  for k in range(sample_number):\n",
    "    a,b=np.random.randint(0,l,size=2)\n",
    "    de=2*sigma[a,b]*(sigma[(a+1)%l,b]+sigma[a-1,b]+sigma[a,(b+1)%l]+sigma[a,b-1])\n",
    "    if de<0:\n",
    "      sigma[a,b]*=-1\n",
    "      e+=de\n",
    "      m+=2*sigma[a,b]\n",
    "    elif de>0 and np.random.rand()<des[de]:\n",
    "      sigma[a,b]*=-1\n",
    "      e+=de\n",
    "      m+=2*sigma[a,b]\n",
    "  return sigma,e,m"
   ]
  },
  {
   "source": [
    "'get_corr' function to calculate the energy corrolation length "
   ],
   "cell_type": "markdown",
   "metadata": {}
  },
  {
   "cell_type": "code",
   "execution_count": null,
   "metadata": {},
   "outputs": [],
   "source": [
    "def get_corr(sigma,e,m,j,l,relax_limit):\n",
    "  des={0:1,4:(np.e)**(-j*4),8:(np.e)**(-j*8)}\n",
    "  cor_l=0\n",
    "  count=0\n",
    "  ee=[]\n",
    "  while cor_l==0:\n",
    "    count+=1\n",
    "    #ee=[]\n",
    "    for i in range(relax_limit):\n",
    "      a,b=np.random.randint(0,l,size=2)\n",
    "      de=2*sigma[a,b]*(sigma[(a+1)%l,b]+sigma[a-1,b]+sigma[a,(b+1)%l]+sigma[a,b-1])\n",
    "      if de<0:\n",
    "        sigma[a,b]*=-1\n",
    "        e+=de\n",
    "        m+=2*sigma[a,b]\n",
    "      elif de>0 and np.random.rand()<des[de]:\n",
    "        sigma[a,b]*=-1\n",
    "        e+=de\n",
    "        m+=2*sigma[a,b]\n",
    "      ee.append(e)\n",
    "    cor_l=cor(ee,l,l*l)*count\n",
    "  return sigma,e,m,cor_l"
   ]
  },
  {
   "source": [
    "'main' function to produce data:"
   ],
   "cell_type": "markdown",
   "metadata": {}
  },
  {
   "cell_type": "code",
   "execution_count": 10,
   "metadata": {},
   "outputs": [],
   "source": [
    "def main(sigma,e,m,j,l,corrolation_length,sample_number):\n",
    "  des={0:1,4:(np.e)**(-j*4),8:(np.e)**(-j*8)}\n",
    "  ee=[]\n",
    "  mm=[]\n",
    "  spin=[]\n",
    "  final_data=[]\n",
    "  for k in range(sample_number):\n",
    "    for i in range(corrolation_length):\n",
    "        a,b=np.random.randint(0,l,size=2)\n",
    "        de=2*sigma[a,b]*(sigma[(a+1)%l,b]+sigma[a-1,b]+sigma[a,(b+1)%l]+sigma[a,b-1])\n",
    "        if de<0:\n",
    "          sigma[a,b]*=-1\n",
    "          e+=de\n",
    "          m+=2*sigma[a,b]\n",
    "        elif de>0 and np.random.rand()<des[de]:\n",
    "          sigma[a,b]*=-1\n",
    "          e+=de\n",
    "          m+=2*sigma[a,b]\n",
    "    ee.append(e)\n",
    "    mm.append(m)\n",
    "    spin.append(spin_spin(sigma))\n",
    "  final_data=(np.mean(ee),np.var(ee),np.mean(abs(array(mm))/(l*l)),np.var(abs(array(mm))/(l*l)),np.mean(spin),np.std(spin))\n",
    "  return sigma,final_data,e,m"
   ]
  },
  {
   "source": [
    "plot data:"
   ],
   "cell_type": "markdown",
   "metadata": {}
  },
  {
   "cell_type": "code",
   "execution_count": 11,
   "metadata": {},
   "outputs": [],
   "source": [
    "from openpyxl import load_workbook\n",
    "\n",
    "def plot(file_address,specific_row,plot_title,x_label,y_label,pic_name):\n",
    "    plt.style.use('seaborn')\n",
    "    fname=file_address\n",
    "    xls = xlrd.open_workbook(r'%s'%fname, on_demand=True)\n",
    "    sheet_names=xls.sheet_names()\n",
    "    sheet_names.remove('Sheet')\n",
    "\n",
    "    fig1=plt.figure()\n",
    "    ax1=fig1.add_subplot()\n",
    "    style=['--o','--v','--s','--p','--P','--*']\n",
    "    for counter,sheet in enumerate(sheet_names):\n",
    "        df=pd.read_excel(fname,sheet_name=sheet,index_col=0)\n",
    "        J=list(df.columns)\n",
    "        ax1.plot(J,df.loc[specific_row],style[counter%len(style)],label='L=%s'%sheet)\n",
    "\n",
    "    ax1.set_xlabel(x_label)\n",
    "    ax1.set_ylabel(y_label)\n",
    "    ax1.set_title(plot_title)\n",
    "    ax1.legend()\n",
    "    plt.tight_layout()\n",
    "    plt.savefig('C:\\\\Users\\\\alise\\Dropbox\\\\simu in physics\\\\HW-7\\\\plots\\\\%s.png'%pic_name, bbox_inches='tight') \n",
    "    plt.show()"
   ]
  },
  {
   "source": [
    "main body:"
   ],
   "cell_type": "markdown",
   "metadata": {}
  },
  {
   "cell_type": "code",
   "execution_count": null,
   "metadata": {},
   "outputs": [],
   "source": [
    "from numpy import array\n",
    "import pandas as pd \n",
    "from openpyxl import Workbook\n",
    "\n",
    "\n",
    "#%cd /content/drive/My\\ Drive/Colab\\ Notebooks/ising-data2\n",
    "\n",
    "fname='data.xlsx'\n",
    "#J=np.append(np.arange(0.1,0.4,0.05),np.arange(0.41,0.9,0.01))\n",
    "J=np.append(np.arange(0.1,0.4,0.05),np.arange(0.41,0.50,0.01))\n",
    "J=np.append(J,np.arange(0.55,0.75,0.05))\n",
    "df=pd.DataFrame(columns=J,index= ['e','var_e','m','var_m','s-s corr','s-s std'])\n",
    "L=[32]\n",
    "#L=[64, 100,130, 160]\n",
    "for l in L:\n",
    "  print('L=%i \\n ******************************************'%l)\n",
    "  #J=[0.7]\n",
    "  sigma=initial(l)\n",
    "  e=energy(sigma,l)\n",
    "  m=magnetization(sigma)\n",
    "  sample_number=100\n",
    "  sample_relax_number=100*l*l\n",
    "  for counter,j in enumerate(J,1):\n",
    "    if j>=0.40:\n",
    "      sample_relax_number=1000*l*l\n",
    "\n",
    "    sigma,e,m=relax2(sigma,e,m,j,l,sample_relax_number)\n",
    "    sigma,e,m,cor_l=relax(sigma,e,m,j,l,6*(l*l))\n",
    "    print('j=%0.2f \\n cor=%i'%(j,cor_l))\n",
    "    if j>=0.40 and j<=0.5:\n",
    "      sample_number=300\n",
    "    else:\n",
    "      sample_number=100\n",
    "    sigma,final_data,e,m=main(sigma,e,m,j,l,2*cor_l,sample_number)\n",
    "      #graphic(sigma,l)\n",
    "      #plt.title('J=%0.2f'%j)\n",
    "      #plt.savefig('/content/drive/My Drive/Colab Notebooks/ising-pics/200/%0.2f.png'%j,bbox_inches='tight')\n",
    "      #plt.pause(0.001)\n",
    "      #plt.plot(np.arange(len(ee)),ee)\n",
    "      #plt.pause(0.001)\n",
    "    df[j]=final_data\n",
    "  sv_excel(df,l,fname)"
   ]
  },
  {
   "source": [
    "plot data: change the second parameter of the plot function to get your desired result. Causion! for the possible values check the data excel file"
   ],
   "cell_type": "markdown",
   "metadata": {}
  },
  {
   "cell_type": "code",
   "execution_count": null,
   "metadata": {},
   "outputs": [],
   "source": [
    "fname='C:\\\\Users\\\\alise\\\\Google Drive\\\\Colab Notebooks\\\\ising-data2\\\\data.xlsx'\n",
    "plot(fname,'s-s corr',\"spin-spin correlation length vs $\\\\beta$\",'$\\\\beta$', '$\\\\xi$',\"correlation length vs beta\")"
   ]
  }
 ]
}